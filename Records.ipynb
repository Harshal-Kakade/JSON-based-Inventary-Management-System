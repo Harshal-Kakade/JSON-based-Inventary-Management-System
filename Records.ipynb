{
 "cells": [
  {
   "cell_type": "code",
   "execution_count": 1,
   "metadata": {},
   "outputs": [],
   "source": [
    "records={'101' : {'name': 'Milk',        'company': 'Chitale',      'size': '1lr',      'price': 60,     'quantity': 100},\n",
    "         '102' : {'name': 'Sugar',       'company': 'Indiana',      'size': '1kg',      'price': 40,     'quantity': 120},\n",
    "         '103' : {'name': 'Salt',        'company': 'Tata',         'size': '1kg',      'price': 18,     'quantity': 100},\n",
    "         '104' : {'name': 'Cadbury',     'company': 'Dairy-milk',   'size': '50gm',     'price': 25,     'quantity': 60},\n",
    "         '105' : {'name': 'Oil',         'company': 'Gemini',       'size': '1lr',      'price': 120,    'quantity': 60},\n",
    "         '106' : {'name': 'Soap',        'company': 'Dettol',       'size': '1u',       'price': 25,     'quantity': 100},\n",
    "         '107' : {'name': 'Pen',         'company': 'Trimax',       'size': '1u',       'price': 50,     'quantity': 80},\n",
    "         '108' : {'name': 'Pencil',      'company': 'Apsara',       'size': '1u',       'price': 5,      'quantity': 80},\n",
    "         '109' : {'name': 'Dal',         'company': 'Haldiram',     'size': '1kg',      'price': 120,    'quantity': 100},\n",
    "         '110' : {'name': 'Ghee',        'company': 'Gowardhan',    'size': '1kg',      'price': 550,    'quantity': 100},\n",
    "         '111' : {'name': 'Maggie',      'company': 'Maggie',       'size': '200gm',    'price': 40,     'quantity': 100},\n",
    "         '112' : {'name': 'Biscuit',     'company': 'Britania',     'size': '12u',      'price': 60,     'quantity': 200},\n",
    "         '113' : {'name': 'Chips',       'company': 'Lays',         'size': '1u',       'price': 12,     'quantity': 150},\n",
    "         '114' : {'name': 'Cold-driks',  'company': 'Pepsi',        'size': '1lr',      'price': 45,     'quantity': 80},\n",
    "         '115' : {'name': 'Ice-cream',   'company': 'Amul',         'size': '1u',       'price': 40,     'quantity': 100},\n",
    "         '116' : {'name': 'Toothpaste',  'company': 'Colagate',     'size': '100g',     'price': 60,     'quantity': 80},\n",
    "         '117' : {'name': 'Shampoo',     'company': 'Clinic-Plus',  'size': '1u',       'price': 60,     'quantity': 100},\n",
    "         '118' : {'name': 'Toothbrush',  'company': 'Oral-B',       'size': '1u',       'price': 30,     'quantity': 80},\n",
    "         '119' : {'name': 'Tea',         'company': 'Red-Label',    'size': '1kg',      'price': 500,    'quantity': 60},\n",
    "         '120' : {'name': 'Coffee',      'company': 'Nescafe',      'size': '1kg',      'price': 1200,   'quantity': 60}}"
   ]
  },
  {
   "cell_type": "code",
   "execution_count": 2,
   "metadata": {},
   "outputs": [
    {
     "data": {
      "text/plain": [
       "dict_keys(['101', '102', '103', '104', '105', '106', '107', '108', '109', '110', '111', '112', '113', '114', '115', '116', '117', '118', '119', '120'])"
      ]
     },
     "execution_count": 2,
     "metadata": {},
     "output_type": "execute_result"
    }
   ],
   "source": [
    "records.keys()"
   ]
  },
  {
   "cell_type": "code",
   "execution_count": 3,
   "metadata": {},
   "outputs": [
    {
     "data": {
      "text/plain": [
       "dict_values([{'name': 'Milk', 'company': 'Chitale', 'size': '1lr', 'price': 60, 'quantity': 100}, {'name': 'Sugar', 'company': 'Indiana', 'size': '1kg', 'price': 40, 'quantity': 120}, {'name': 'Salt', 'company': 'Tata', 'size': '1kg', 'price': 18, 'quantity': 100}, {'name': 'Cadbury', 'company': 'Dairy-milk', 'size': '50gm', 'price': 25, 'quantity': 60}, {'name': 'Oil', 'company': 'Gemini', 'size': '1lr', 'price': 120, 'quantity': 60}, {'name': 'Soap', 'company': 'Dettol', 'size': '1u', 'price': 25, 'quantity': 100}, {'name': 'Pen', 'company': 'Trimax', 'size': '1u', 'price': 50, 'quantity': 80}, {'name': 'Pencil', 'company': 'Apsara', 'size': '1u', 'price': 5, 'quantity': 80}, {'name': 'Dal', 'company': 'Haldiram', 'size': '1kg', 'price': 120, 'quantity': 100}, {'name': 'Ghee', 'company': 'Gowardhan', 'size': '1kg', 'price': 550, 'quantity': 100}, {'name': 'Maggie', 'company': 'Maggie', 'size': '200gm', 'price': 40, 'quantity': 100}, {'name': 'Biscuit', 'company': 'Britania', 'size': '12u', 'price': 60, 'quantity': 200}, {'name': 'Chips', 'company': 'Lays', 'size': '1u', 'price': 12, 'quantity': 150}, {'name': 'Cold-driks', 'company': 'Pepsi', 'size': '1lr', 'price': 45, 'quantity': 80}, {'name': 'Ice-cream', 'company': 'Amul', 'size': '1u', 'price': 40, 'quantity': 100}, {'name': 'Toothpaste', 'company': 'Colagate', 'size': '100g', 'price': 60, 'quantity': 80}, {'name': 'Shampoo', 'company': 'Clinic-Plus', 'size': '1u', 'price': 60, 'quantity': 100}, {'name': 'Toothbrush', 'company': 'Oral-B', 'size': '1u', 'price': 30, 'quantity': 80}, {'name': 'Tea', 'company': 'Red-Label', 'size': '1kg', 'price': 500, 'quantity': 60}, {'name': 'Coffee', 'company': 'Nescafe', 'size': '1kg', 'price': 1200, 'quantity': 60}])"
      ]
     },
     "execution_count": 3,
     "metadata": {},
     "output_type": "execute_result"
    }
   ],
   "source": [
    "records.values()"
   ]
  },
  {
   "cell_type": "code",
   "execution_count": 4,
   "metadata": {},
   "outputs": [
    {
     "data": {
      "text/plain": [
       "{'101': {'name': 'Milk',\n",
       "  'company': 'Chitale',\n",
       "  'size': '1lr',\n",
       "  'price': 60,\n",
       "  'quantity': 100},\n",
       " '102': {'name': 'Sugar',\n",
       "  'company': 'Indiana',\n",
       "  'size': '1kg',\n",
       "  'price': 40,\n",
       "  'quantity': 120},\n",
       " '103': {'name': 'Salt',\n",
       "  'company': 'Tata',\n",
       "  'size': '1kg',\n",
       "  'price': 18,\n",
       "  'quantity': 100},\n",
       " '104': {'name': 'Cadbury',\n",
       "  'company': 'Dairy-milk',\n",
       "  'size': '50gm',\n",
       "  'price': 25,\n",
       "  'quantity': 60},\n",
       " '105': {'name': 'Oil',\n",
       "  'company': 'Gemini',\n",
       "  'size': '1lr',\n",
       "  'price': 120,\n",
       "  'quantity': 60},\n",
       " '106': {'name': 'Soap',\n",
       "  'company': 'Dettol',\n",
       "  'size': '1u',\n",
       "  'price': 25,\n",
       "  'quantity': 100},\n",
       " '107': {'name': 'Pen',\n",
       "  'company': 'Trimax',\n",
       "  'size': '1u',\n",
       "  'price': 50,\n",
       "  'quantity': 80},\n",
       " '108': {'name': 'Pencil',\n",
       "  'company': 'Apsara',\n",
       "  'size': '1u',\n",
       "  'price': 5,\n",
       "  'quantity': 80},\n",
       " '109': {'name': 'Dal',\n",
       "  'company': 'Haldiram',\n",
       "  'size': '1kg',\n",
       "  'price': 120,\n",
       "  'quantity': 100},\n",
       " '110': {'name': 'Ghee',\n",
       "  'company': 'Gowardhan',\n",
       "  'size': '1kg',\n",
       "  'price': 550,\n",
       "  'quantity': 100},\n",
       " '111': {'name': 'Maggie',\n",
       "  'company': 'Maggie',\n",
       "  'size': '200gm',\n",
       "  'price': 40,\n",
       "  'quantity': 100},\n",
       " '112': {'name': 'Biscuit',\n",
       "  'company': 'Britania',\n",
       "  'size': '12u',\n",
       "  'price': 60,\n",
       "  'quantity': 200},\n",
       " '113': {'name': 'Chips',\n",
       "  'company': 'Lays',\n",
       "  'size': '1u',\n",
       "  'price': 12,\n",
       "  'quantity': 150},\n",
       " '114': {'name': 'Cold-driks',\n",
       "  'company': 'Pepsi',\n",
       "  'size': '1lr',\n",
       "  'price': 45,\n",
       "  'quantity': 80},\n",
       " '115': {'name': 'Ice-cream',\n",
       "  'company': 'Amul',\n",
       "  'size': '1u',\n",
       "  'price': 40,\n",
       "  'quantity': 100},\n",
       " '116': {'name': 'Toothpaste',\n",
       "  'company': 'Colagate',\n",
       "  'size': '100g',\n",
       "  'price': 60,\n",
       "  'quantity': 80},\n",
       " '117': {'name': 'Shampoo',\n",
       "  'company': 'Clinic-Plus',\n",
       "  'size': '1u',\n",
       "  'price': 60,\n",
       "  'quantity': 100},\n",
       " '118': {'name': 'Toothbrush',\n",
       "  'company': 'Oral-B',\n",
       "  'size': '1u',\n",
       "  'price': 30,\n",
       "  'quantity': 80},\n",
       " '119': {'name': 'Tea',\n",
       "  'company': 'Red-Label',\n",
       "  'size': '1kg',\n",
       "  'price': 500,\n",
       "  'quantity': 60},\n",
       " '120': {'name': 'Coffee',\n",
       "  'company': 'Nescafe',\n",
       "  'size': '1kg',\n",
       "  'price': 1200,\n",
       "  'quantity': 60}}"
      ]
     },
     "execution_count": 4,
     "metadata": {},
     "output_type": "execute_result"
    }
   ],
   "source": [
    "records"
   ]
  },
  {
   "cell_type": "code",
   "execution_count": 5,
   "metadata": {},
   "outputs": [
    {
     "data": {
      "text/plain": [
       "{'name': 'Oil',\n",
       " 'company': 'Gemini',\n",
       " 'size': '1lr',\n",
       " 'price': 120,\n",
       " 'quantity': 60}"
      ]
     },
     "execution_count": 5,
     "metadata": {},
     "output_type": "execute_result"
    }
   ],
   "source": [
    "records['105']"
   ]
  },
  {
   "cell_type": "code",
   "execution_count": 6,
   "metadata": {},
   "outputs": [
    {
     "data": {
      "text/plain": [
       "'Maggie'"
      ]
     },
     "execution_count": 6,
     "metadata": {},
     "output_type": "execute_result"
    }
   ],
   "source": [
    "records['111']['name']"
   ]
  },
  {
   "cell_type": "code",
   "execution_count": null,
   "metadata": {},
   "outputs": [],
   "source": []
  },
  {
   "cell_type": "code",
   "execution_count": 7,
   "metadata": {},
   "outputs": [],
   "source": [
    "import json"
   ]
  },
  {
   "cell_type": "code",
   "execution_count": 8,
   "metadata": {},
   "outputs": [],
   "source": [
    "#Converting record Dictionary to JSON(String File) \n",
    "rec = json.dumps(records)\n",
    "\n",
    "fd = open(\"record.json\",'w')\n",
    "fd.write(rec)\n",
    "fd.close()"
   ]
  },
  {
   "cell_type": "code",
   "execution_count": 9,
   "metadata": {},
   "outputs": [
    {
     "data": {
      "text/plain": [
       "'{\"101\": {\"name\": \"Milk\", \"company\": \"Chitale\", \"size\": \"1lr\", \"price\": 60, \"quantity\": 100}, \"102\": {\"name\": \"Sugar\", \"company\": \"Indiana\", \"size\": \"1kg\", \"price\": 40, \"quantity\": 120}, \"103\": {\"name\": \"Salt\", \"company\": \"Tata\", \"size\": \"1kg\", \"price\": 18, \"quantity\": 100}, \"104\": {\"name\": \"Cadbury\", \"company\": \"Dairy-milk\", \"size\": \"50gm\", \"price\": 25, \"quantity\": 60}, \"105\": {\"name\": \"Oil\", \"company\": \"Gemini\", \"size\": \"1lr\", \"price\": 120, \"quantity\": 60}, \"106\": {\"name\": \"Soap\", \"company\": \"Dettol\", \"size\": \"1u\", \"price\": 25, \"quantity\": 100}, \"107\": {\"name\": \"Pen\", \"company\": \"Trimax\", \"size\": \"1u\", \"price\": 50, \"quantity\": 80}, \"108\": {\"name\": \"Pencil\", \"company\": \"Apsara\", \"size\": \"1u\", \"price\": 5, \"quantity\": 80}, \"109\": {\"name\": \"Dal\", \"company\": \"Haldiram\", \"size\": \"1kg\", \"price\": 120, \"quantity\": 100}, \"110\": {\"name\": \"Ghee\", \"company\": \"Gowardhan\", \"size\": \"1kg\", \"price\": 550, \"quantity\": 100}, \"111\": {\"name\": \"Maggie\", \"company\": \"Maggie\", \"size\": \"200gm\", \"price\": 40, \"quantity\": 100}, \"112\": {\"name\": \"Biscuit\", \"company\": \"Britania\", \"size\": \"12u\", \"price\": 60, \"quantity\": 200}, \"113\": {\"name\": \"Chips\", \"company\": \"Lays\", \"size\": \"1u\", \"price\": 12, \"quantity\": 150}, \"114\": {\"name\": \"Cold-driks\", \"company\": \"Pepsi\", \"size\": \"1lr\", \"price\": 45, \"quantity\": 80}, \"115\": {\"name\": \"Ice-cream\", \"company\": \"Amul\", \"size\": \"1u\", \"price\": 40, \"quantity\": 100}, \"116\": {\"name\": \"Toothpaste\", \"company\": \"Colagate\", \"size\": \"100g\", \"price\": 60, \"quantity\": 80}, \"117\": {\"name\": \"Shampoo\", \"company\": \"Clinic-Plus\", \"size\": \"1u\", \"price\": 60, \"quantity\": 100}, \"118\": {\"name\": \"Toothbrush\", \"company\": \"Oral-B\", \"size\": \"1u\", \"price\": 30, \"quantity\": 80}, \"119\": {\"name\": \"Tea\", \"company\": \"Red-Label\", \"size\": \"1kg\", \"price\": 500, \"quantity\": 60}, \"120\": {\"name\": \"Coffee\", \"company\": \"Nescafe\", \"size\": \"1kg\", \"price\": 1200, \"quantity\": 60}}'"
      ]
     },
     "execution_count": 9,
     "metadata": {},
     "output_type": "execute_result"
    }
   ],
   "source": [
    "rec"
   ]
  },
  {
   "cell_type": "code",
   "execution_count": null,
   "metadata": {},
   "outputs": [],
   "source": []
  },
  {
   "cell_type": "code",
   "execution_count": null,
   "metadata": {},
   "outputs": [],
   "source": []
  }
 ],
 "metadata": {
  "kernelspec": {
   "display_name": "Python 3",
   "language": "python",
   "name": "python3"
  },
  "language_info": {
   "codemirror_mode": {
    "name": "ipython",
    "version": 3
   },
   "file_extension": ".py",
   "mimetype": "text/x-python",
   "name": "python",
   "nbconvert_exporter": "python",
   "pygments_lexer": "ipython3",
   "version": "3.8.5"
  }
 },
 "nbformat": 4,
 "nbformat_minor": 4
}
